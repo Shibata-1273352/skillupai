{
 "cells": [
  {
   "cell_type": "markdown",
   "metadata": {},
   "source": [
    "# Kickstarter Projects\n",
    "\n",
    "## 目的変数：state【成功（successful）するか、失敗（failed）するか】"
   ]
  },
  {
   "cell_type": "code",
   "execution_count": 138,
   "metadata": {},
   "outputs": [],
   "source": [
    "%matplotlib inline\n",
    "import pandas as pd\n",
    "import numpy as np\n",
    "import matplotlib.pyplot as plt\n",
    "from sklearn.linear_model import LinearRegression, SGDClassifier\n",
    "from sklearn.metrics import log_loss, accuracy_score, confusion_matrix\n",
    "import seaborn as sns\n",
    "import sklearn.preprocessing as sp\n",
    "from sklearn.metrics import mean_squared_error, mean_absolute_error\n",
    "from  sklearn.metrics import accuracy_score, precision_recall_fscore_support, confusion_matrix"
   ]
  },
  {
   "cell_type": "code",
   "execution_count": 139,
   "metadata": {},
   "outputs": [
    {
     "data": {
      "text/html": [
       "<style>\n",
       "table {float:left}\n",
       "</style>\n"
      ],
      "text/plain": [
       "<IPython.core.display.HTML object>"
      ]
     },
     "metadata": {},
     "output_type": "display_data"
    }
   ],
   "source": [
    "%%html\n",
    "<style>\n",
    "table {float:left}\n",
    "</style>"
   ]
  },
  {
   "cell_type": "markdown",
   "metadata": {},
   "source": [
    "|  カラム  |  意味  |\n",
    "| ---- | ---- |\n",
    "|  ID  |  キックスタータID  |\n",
    "|  name  |  プロジェクト名  |\n",
    "|  category  |  カテゴリ  |\n",
    "|  main_category  |  キャンペーンのカテゴリ  |\n",
    "|  currency  |  支援通貨  |\n",
    "|  deadline  |  クラウドファンディングの締切  |\n",
    "|  goal  |  資金調達目標 - 作成者がプロジェクトを完了するために必要な金額  |\n",
    "|  launched  |  開始日  |\n",
    "|  pledged  |  「群衆」が約束した金額  |\n",
    "|  state  |  プロジェクトの現状  |\n",
    "|  backers  |  支持者の数  |\n",
    "|  country  |  国  |\n",
    "|  usd pledged  |  USドル換算額 (conversion made by KS)  |\n",
    "|  usd_pledged_real  |  USドル換算額 (conversion made by fixer.io api)  |\n",
    "|  usd_goal_real  |  目標額USドル (conversion made by fixer.io api)  |"
   ]
  },
  {
   "cell_type": "code",
   "execution_count": 144,
   "metadata": {
    "scrolled": true
   },
   "outputs": [],
   "source": [
    "# データ読込\n",
    "# df_cloud = pd.read_csv(\n",
    "#     \"./kickstarter-projects/ks-projects-201801.csv\", dtype = None, delimiter = \",\")[\n",
    "#     ['name', 'category', 'main_category', 'currency', 'deadline', 'goal', 'launched', 'pledged', 'state', 'backers', 'country', 'usd pledged', 'usd_pledged_real', 'usd_goal_real']]\n",
    "df_cloud = pd.read_csv(\n",
    "    \"./input/ks-projects-201801.csv\", delimiter = \",\")[\n",
    "    ['category', 'main_category', 'currency', 'goal', 'pledged', 'state', 'backers', 'country', 'usd pledged', 'usd_pledged_real', 'usd_goal_real']]"
   ]
  },
  {
   "cell_type": "code",
   "execution_count": 145,
   "metadata": {},
   "outputs": [
    {
     "name": "stdout",
     "output_type": "stream",
     "text": [
      "failed        197719\n",
      "successful    133956\n",
      "canceled       38779\n",
      "undefined       3562\n",
      "live            2799\n",
      "suspended       1846\n",
      "Name: state, dtype: int64\n",
      "failed        0.522153\n",
      "successful    0.353762\n",
      "canceled      0.102411\n",
      "undefined     0.009407\n",
      "live          0.007392\n",
      "suspended     0.004875\n",
      "Name: state, dtype: float64\n"
     ]
    }
   ],
   "source": [
    "#目的変数の把握\n",
    "print(df_cloud['state'].value_counts(dropna=False))\n",
    "print(df_cloud['state'].value_counts(normalize=True, dropna=False))"
   ]
  },
  {
   "cell_type": "markdown",
   "metadata": {},
   "source": [
    "canceled/undefined/live/suspendedは予測対象から除外"
   ]
  },
  {
   "cell_type": "code",
   "execution_count": 146,
   "metadata": {},
   "outputs": [
    {
     "name": "stdout",
     "output_type": "stream",
     "text": [
      "<class 'pandas.core.frame.DataFrame'>\n",
      "RangeIndex: 378661 entries, 0 to 378660\n",
      "Data columns (total 12 columns):\n",
      "category            378661 non-null object\n",
      "main_category       378661 non-null object\n",
      "currency            378661 non-null object\n",
      "goal                378661 non-null float64\n",
      "pledged             378661 non-null float64\n",
      "state               378661 non-null object\n",
      "backers             378661 non-null int64\n",
      "country             378661 non-null object\n",
      "usd pledged         374864 non-null float64\n",
      "usd_pledged_real    378661 non-null float64\n",
      "usd_goal_real       378661 non-null float64\n",
      "state_num           331675 non-null float64\n",
      "dtypes: float64(6), int64(1), object(5)\n",
      "memory usage: 34.7+ MB\n"
     ]
    },
    {
     "data": {
      "text/html": [
       "<div>\n",
       "<style scoped>\n",
       "    .dataframe tbody tr th:only-of-type {\n",
       "        vertical-align: middle;\n",
       "    }\n",
       "\n",
       "    .dataframe tbody tr th {\n",
       "        vertical-align: top;\n",
       "    }\n",
       "\n",
       "    .dataframe thead th {\n",
       "        text-align: right;\n",
       "    }\n",
       "</style>\n",
       "<table border=\"1\" class=\"dataframe\">\n",
       "  <thead>\n",
       "    <tr style=\"text-align: right;\">\n",
       "      <th></th>\n",
       "      <th>category</th>\n",
       "      <th>main_category</th>\n",
       "      <th>currency</th>\n",
       "      <th>goal</th>\n",
       "      <th>pledged</th>\n",
       "      <th>state</th>\n",
       "      <th>backers</th>\n",
       "      <th>country</th>\n",
       "      <th>usd pledged</th>\n",
       "      <th>usd_pledged_real</th>\n",
       "      <th>usd_goal_real</th>\n",
       "      <th>state_num</th>\n",
       "    </tr>\n",
       "  </thead>\n",
       "  <tbody>\n",
       "    <tr>\n",
       "      <th>0</th>\n",
       "      <td>Poetry</td>\n",
       "      <td>Publishing</td>\n",
       "      <td>GBP</td>\n",
       "      <td>1000.0</td>\n",
       "      <td>0.0</td>\n",
       "      <td>failed</td>\n",
       "      <td>0</td>\n",
       "      <td>GB</td>\n",
       "      <td>0.0</td>\n",
       "      <td>0.0</td>\n",
       "      <td>1533.95</td>\n",
       "      <td>1.0</td>\n",
       "    </tr>\n",
       "    <tr>\n",
       "      <th>1</th>\n",
       "      <td>Narrative Film</td>\n",
       "      <td>Film &amp; Video</td>\n",
       "      <td>USD</td>\n",
       "      <td>30000.0</td>\n",
       "      <td>2421.0</td>\n",
       "      <td>failed</td>\n",
       "      <td>15</td>\n",
       "      <td>US</td>\n",
       "      <td>100.0</td>\n",
       "      <td>2421.0</td>\n",
       "      <td>30000.00</td>\n",
       "      <td>1.0</td>\n",
       "    </tr>\n",
       "    <tr>\n",
       "      <th>2</th>\n",
       "      <td>Narrative Film</td>\n",
       "      <td>Film &amp; Video</td>\n",
       "      <td>USD</td>\n",
       "      <td>45000.0</td>\n",
       "      <td>220.0</td>\n",
       "      <td>failed</td>\n",
       "      <td>3</td>\n",
       "      <td>US</td>\n",
       "      <td>220.0</td>\n",
       "      <td>220.0</td>\n",
       "      <td>45000.00</td>\n",
       "      <td>1.0</td>\n",
       "    </tr>\n",
       "    <tr>\n",
       "      <th>3</th>\n",
       "      <td>Music</td>\n",
       "      <td>Music</td>\n",
       "      <td>USD</td>\n",
       "      <td>5000.0</td>\n",
       "      <td>1.0</td>\n",
       "      <td>failed</td>\n",
       "      <td>1</td>\n",
       "      <td>US</td>\n",
       "      <td>1.0</td>\n",
       "      <td>1.0</td>\n",
       "      <td>5000.00</td>\n",
       "      <td>1.0</td>\n",
       "    </tr>\n",
       "    <tr>\n",
       "      <th>4</th>\n",
       "      <td>Film &amp; Video</td>\n",
       "      <td>Film &amp; Video</td>\n",
       "      <td>USD</td>\n",
       "      <td>19500.0</td>\n",
       "      <td>1283.0</td>\n",
       "      <td>canceled</td>\n",
       "      <td>14</td>\n",
       "      <td>US</td>\n",
       "      <td>1283.0</td>\n",
       "      <td>1283.0</td>\n",
       "      <td>19500.00</td>\n",
       "      <td>NaN</td>\n",
       "    </tr>\n",
       "  </tbody>\n",
       "</table>\n",
       "</div>"
      ],
      "text/plain": [
       "         category main_category currency     goal  pledged     state  backers  \\\n",
       "0          Poetry    Publishing      GBP   1000.0      0.0    failed        0   \n",
       "1  Narrative Film  Film & Video      USD  30000.0   2421.0    failed       15   \n",
       "2  Narrative Film  Film & Video      USD  45000.0    220.0    failed        3   \n",
       "3           Music         Music      USD   5000.0      1.0    failed        1   \n",
       "4    Film & Video  Film & Video      USD  19500.0   1283.0  canceled       14   \n",
       "\n",
       "  country  usd pledged  usd_pledged_real  usd_goal_real  state_num  \n",
       "0      GB          0.0               0.0        1533.95        1.0  \n",
       "1      US        100.0            2421.0       30000.00        1.0  \n",
       "2      US        220.0             220.0       45000.00        1.0  \n",
       "3      US          1.0               1.0        5000.00        1.0  \n",
       "4      US       1283.0            1283.0       19500.00        NaN  "
      ]
     },
     "metadata": {},
     "output_type": "display_data"
    },
    {
     "data": {
      "text/html": [
       "<div>\n",
       "<style scoped>\n",
       "    .dataframe tbody tr th:only-of-type {\n",
       "        vertical-align: middle;\n",
       "    }\n",
       "\n",
       "    .dataframe tbody tr th {\n",
       "        vertical-align: top;\n",
       "    }\n",
       "\n",
       "    .dataframe thead th {\n",
       "        text-align: right;\n",
       "    }\n",
       "</style>\n",
       "<table border=\"1\" class=\"dataframe\">\n",
       "  <thead>\n",
       "    <tr style=\"text-align: right;\">\n",
       "      <th></th>\n",
       "      <th>goal</th>\n",
       "      <th>pledged</th>\n",
       "      <th>backers</th>\n",
       "      <th>usd pledged</th>\n",
       "      <th>usd_pledged_real</th>\n",
       "      <th>usd_goal_real</th>\n",
       "      <th>state_num</th>\n",
       "    </tr>\n",
       "  </thead>\n",
       "  <tbody>\n",
       "    <tr>\n",
       "      <th>count</th>\n",
       "      <td>3.786610e+05</td>\n",
       "      <td>3.786610e+05</td>\n",
       "      <td>378661.000000</td>\n",
       "      <td>3.748640e+05</td>\n",
       "      <td>3.786610e+05</td>\n",
       "      <td>3.786610e+05</td>\n",
       "      <td>331675.000000</td>\n",
       "    </tr>\n",
       "    <tr>\n",
       "      <th>mean</th>\n",
       "      <td>4.908079e+04</td>\n",
       "      <td>9.682979e+03</td>\n",
       "      <td>105.617476</td>\n",
       "      <td>7.036729e+03</td>\n",
       "      <td>9.058924e+03</td>\n",
       "      <td>4.545440e+04</td>\n",
       "      <td>0.596123</td>\n",
       "    </tr>\n",
       "    <tr>\n",
       "      <th>std</th>\n",
       "      <td>1.183391e+06</td>\n",
       "      <td>9.563601e+04</td>\n",
       "      <td>907.185035</td>\n",
       "      <td>7.863975e+04</td>\n",
       "      <td>9.097334e+04</td>\n",
       "      <td>1.152950e+06</td>\n",
       "      <td>0.490674</td>\n",
       "    </tr>\n",
       "    <tr>\n",
       "      <th>min</th>\n",
       "      <td>1.000000e-02</td>\n",
       "      <td>0.000000e+00</td>\n",
       "      <td>0.000000</td>\n",
       "      <td>0.000000e+00</td>\n",
       "      <td>0.000000e+00</td>\n",
       "      <td>1.000000e-02</td>\n",
       "      <td>0.000000</td>\n",
       "    </tr>\n",
       "    <tr>\n",
       "      <th>25%</th>\n",
       "      <td>2.000000e+03</td>\n",
       "      <td>3.000000e+01</td>\n",
       "      <td>2.000000</td>\n",
       "      <td>1.698000e+01</td>\n",
       "      <td>3.100000e+01</td>\n",
       "      <td>2.000000e+03</td>\n",
       "      <td>0.000000</td>\n",
       "    </tr>\n",
       "    <tr>\n",
       "      <th>50%</th>\n",
       "      <td>5.200000e+03</td>\n",
       "      <td>6.200000e+02</td>\n",
       "      <td>12.000000</td>\n",
       "      <td>3.947200e+02</td>\n",
       "      <td>6.243300e+02</td>\n",
       "      <td>5.500000e+03</td>\n",
       "      <td>1.000000</td>\n",
       "    </tr>\n",
       "    <tr>\n",
       "      <th>75%</th>\n",
       "      <td>1.600000e+04</td>\n",
       "      <td>4.076000e+03</td>\n",
       "      <td>56.000000</td>\n",
       "      <td>3.034090e+03</td>\n",
       "      <td>4.050000e+03</td>\n",
       "      <td>1.550000e+04</td>\n",
       "      <td>1.000000</td>\n",
       "    </tr>\n",
       "    <tr>\n",
       "      <th>max</th>\n",
       "      <td>1.000000e+08</td>\n",
       "      <td>2.033899e+07</td>\n",
       "      <td>219382.000000</td>\n",
       "      <td>2.033899e+07</td>\n",
       "      <td>2.033899e+07</td>\n",
       "      <td>1.663614e+08</td>\n",
       "      <td>1.000000</td>\n",
       "    </tr>\n",
       "  </tbody>\n",
       "</table>\n",
       "</div>"
      ],
      "text/plain": [
       "               goal       pledged        backers   usd pledged  \\\n",
       "count  3.786610e+05  3.786610e+05  378661.000000  3.748640e+05   \n",
       "mean   4.908079e+04  9.682979e+03     105.617476  7.036729e+03   \n",
       "std    1.183391e+06  9.563601e+04     907.185035  7.863975e+04   \n",
       "min    1.000000e-02  0.000000e+00       0.000000  0.000000e+00   \n",
       "25%    2.000000e+03  3.000000e+01       2.000000  1.698000e+01   \n",
       "50%    5.200000e+03  6.200000e+02      12.000000  3.947200e+02   \n",
       "75%    1.600000e+04  4.076000e+03      56.000000  3.034090e+03   \n",
       "max    1.000000e+08  2.033899e+07  219382.000000  2.033899e+07   \n",
       "\n",
       "       usd_pledged_real  usd_goal_real      state_num  \n",
       "count      3.786610e+05   3.786610e+05  331675.000000  \n",
       "mean       9.058924e+03   4.545440e+04       0.596123  \n",
       "std        9.097334e+04   1.152950e+06       0.490674  \n",
       "min        0.000000e+00   1.000000e-02       0.000000  \n",
       "25%        3.100000e+01   2.000000e+03       0.000000  \n",
       "50%        6.243300e+02   5.500000e+03       1.000000  \n",
       "75%        4.050000e+03   1.550000e+04       1.000000  \n",
       "max        2.033899e+07   1.663614e+08       1.000000  "
      ]
     },
     "execution_count": 146,
     "metadata": {},
     "output_type": "execute_result"
    }
   ],
   "source": [
    "#成功と失敗の二値に分類\n",
    "\n",
    "#stateを文字列から数値型へ\n",
    "def statetype(in_string):\n",
    "    if in_string == \"successful\":\n",
    "        return 0\n",
    "    elif in_string == \"failed\":\n",
    "        return 1\n",
    "    else :\n",
    "        pass\n",
    "        \n",
    "df_cloud['state_num']= df_cloud['state'].apply(statetype)\n",
    "\n",
    "# 読込データの確認\n",
    "df_cloud.info()\n",
    "display(df_cloud.head())\n",
    "df_cloud.describe()"
   ]
  },
  {
   "cell_type": "code",
   "execution_count": 147,
   "metadata": {},
   "outputs": [
    {
     "name": "stdout",
     "output_type": "stream",
     "text": [
      "US      0.772794\n",
      "GB      0.088924\n",
      "CA      0.038969\n",
      "AU      0.020702\n",
      "DE      0.011015\n",
      "N,0\"    0.010027\n",
      "FR      0.007762\n",
      "IT      0.007600\n",
      "NL      0.007574\n",
      "ES      0.006011\n",
      "SE      0.004640\n",
      "MX      0.004627\n",
      "NZ      0.003821\n",
      "DK      0.002939\n",
      "IE      0.002142\n",
      "CH      0.002010\n",
      "NO      0.001870\n",
      "HK      0.001632\n",
      "BE      0.001629\n",
      "AT      0.001577\n",
      "SG      0.001466\n",
      "LU      0.000164\n",
      "JP      0.000106\n",
      "Name: country, dtype: float64\n"
     ]
    }
   ],
   "source": [
    "print(df_cloud['country'].value_counts(normalize=True, dropna=False))"
   ]
  },
  {
   "cell_type": "markdown",
   "metadata": {},
   "source": [
    "ほとんどがUS\n",
    "欠損データ（N,0\"）があるように思われる"
   ]
  },
  {
   "cell_type": "code",
   "execution_count": 148,
   "metadata": {},
   "outputs": [
    {
     "data": {
      "text/plain": [
       "<matplotlib.axes._subplots.AxesSubplot at 0x104e2e48>"
      ]
     },
     "execution_count": 148,
     "metadata": {},
     "output_type": "execute_result"
    },
    {
     "data": {
      "image/png": "[encoded data removed]",
      "text/plain": [
       "<Figure size 1008x432 with 1 Axes>"
      ]
     },
     "metadata": {
      "needs_background": "light"
     },
     "output_type": "display_data"
    }
   ],
   "source": [
    "df_cloud['country'].value_counts()[:20].plot(kind='barh', \n",
    "                                       figsize=(14,6), \n",
    "                                       title='Top 20 countries')"
   ]
  },
  {
   "cell_type": "code",
   "execution_count": 149,
   "metadata": {},
   "outputs": [
    {
     "data": {
      "text/plain": [
       "category                0\n",
       "main_category           0\n",
       "currency                0\n",
       "goal                    0\n",
       "pledged                 0\n",
       "state                   0\n",
       "backers                 0\n",
       "country                 0\n",
       "usd pledged          3797\n",
       "usd_pledged_real        0\n",
       "usd_goal_real           0\n",
       "state_num           46986\n",
       "dtype: int64"
      ]
     },
     "execution_count": 149,
     "metadata": {},
     "output_type": "execute_result"
    }
   ],
   "source": [
    "#欠損値の確認\n",
    "df_cloud.isnull().sum()"
   ]
  },
  {
   "cell_type": "code",
   "execution_count": 150,
   "metadata": {},
   "outputs": [],
   "source": [
    "#欠損値データを削除\n",
    "df_cloud.dropna(inplace=True)"
   ]
  },
  {
   "cell_type": "code",
   "execution_count": 151,
   "metadata": {},
   "outputs": [],
   "source": [
    "# 質的変数のダミー変数化\n",
    "# df_cloud = pd.get_dummies(df_cloud)\n",
    "\n",
    "# 単純に実行するとカラム数が異常に多くなるため、対処法について検討要"
   ]
  },
  {
   "cell_type": "code",
   "execution_count": 152,
   "metadata": {},
   "outputs": [
    {
     "data": {
      "text/html": [
       "<div>\n",
       "<style scoped>\n",
       "    .dataframe tbody tr th:only-of-type {\n",
       "        vertical-align: middle;\n",
       "    }\n",
       "\n",
       "    .dataframe tbody tr th {\n",
       "        vertical-align: top;\n",
       "    }\n",
       "\n",
       "    .dataframe thead th {\n",
       "        text-align: right;\n",
       "    }\n",
       "</style>\n",
       "<table border=\"1\" class=\"dataframe\">\n",
       "  <thead>\n",
       "    <tr style=\"text-align: right;\">\n",
       "      <th></th>\n",
       "      <th>goal</th>\n",
       "      <th>pledged</th>\n",
       "      <th>backers</th>\n",
       "      <th>usd pledged</th>\n",
       "      <th>usd_pledged_real</th>\n",
       "      <th>usd_goal_real</th>\n",
       "      <th>state_num</th>\n",
       "    </tr>\n",
       "  </thead>\n",
       "  <tbody>\n",
       "    <tr>\n",
       "      <th>goal</th>\n",
       "      <td>1.000000</td>\n",
       "      <td>0.007962</td>\n",
       "      <td>0.004792</td>\n",
       "      <td>0.006416</td>\n",
       "      <td>0.005949</td>\n",
       "      <td>0.952614</td>\n",
       "      <td>0.025097</td>\n",
       "    </tr>\n",
       "    <tr>\n",
       "      <th>pledged</th>\n",
       "      <td>0.007962</td>\n",
       "      <td>1.000000</td>\n",
       "      <td>0.718120</td>\n",
       "      <td>0.857966</td>\n",
       "      <td>0.953465</td>\n",
       "      <td>0.005716</td>\n",
       "      <td>-0.109563</td>\n",
       "    </tr>\n",
       "    <tr>\n",
       "      <th>backers</th>\n",
       "      <td>0.004792</td>\n",
       "      <td>0.718120</td>\n",
       "      <td>1.000000</td>\n",
       "      <td>0.697493</td>\n",
       "      <td>0.753221</td>\n",
       "      <td>0.005207</td>\n",
       "      <td>-0.125849</td>\n",
       "    </tr>\n",
       "    <tr>\n",
       "      <th>usd pledged</th>\n",
       "      <td>0.006416</td>\n",
       "      <td>0.857966</td>\n",
       "      <td>0.697493</td>\n",
       "      <td>1.000000</td>\n",
       "      <td>0.907713</td>\n",
       "      <td>0.006965</td>\n",
       "      <td>-0.095658</td>\n",
       "    </tr>\n",
       "    <tr>\n",
       "      <th>usd_pledged_real</th>\n",
       "      <td>0.005949</td>\n",
       "      <td>0.953465</td>\n",
       "      <td>0.753221</td>\n",
       "      <td>0.907713</td>\n",
       "      <td>1.000000</td>\n",
       "      <td>0.006349</td>\n",
       "      <td>-0.108359</td>\n",
       "    </tr>\n",
       "    <tr>\n",
       "      <th>usd_goal_real</th>\n",
       "      <td>0.952614</td>\n",
       "      <td>0.005716</td>\n",
       "      <td>0.005207</td>\n",
       "      <td>0.006965</td>\n",
       "      <td>0.006349</td>\n",
       "      <td>1.000000</td>\n",
       "      <td>0.023733</td>\n",
       "    </tr>\n",
       "    <tr>\n",
       "      <th>state_num</th>\n",
       "      <td>0.025097</td>\n",
       "      <td>-0.109563</td>\n",
       "      <td>-0.125849</td>\n",
       "      <td>-0.095658</td>\n",
       "      <td>-0.108359</td>\n",
       "      <td>0.023733</td>\n",
       "      <td>1.000000</td>\n",
       "    </tr>\n",
       "  </tbody>\n",
       "</table>\n",
       "</div>"
      ],
      "text/plain": [
       "                      goal   pledged   backers  usd pledged  usd_pledged_real  \\\n",
       "goal              1.000000  0.007962  0.004792     0.006416          0.005949   \n",
       "pledged           0.007962  1.000000  0.718120     0.857966          0.953465   \n",
       "backers           0.004792  0.718120  1.000000     0.697493          0.753221   \n",
       "usd pledged       0.006416  0.857966  0.697493     1.000000          0.907713   \n",
       "usd_pledged_real  0.005949  0.953465  0.753221     0.907713          1.000000   \n",
       "usd_goal_real     0.952614  0.005716  0.005207     0.006965          0.006349   \n",
       "state_num         0.025097 -0.109563 -0.125849    -0.095658         -0.108359   \n",
       "\n",
       "                  usd_goal_real  state_num  \n",
       "goal                   0.952614   0.025097  \n",
       "pledged                0.005716  -0.109563  \n",
       "backers                0.005207  -0.125849  \n",
       "usd pledged            0.006965  -0.095658  \n",
       "usd_pledged_real       0.006349  -0.108359  \n",
       "usd_goal_real          1.000000   0.023733  \n",
       "state_num              0.023733   1.000000  "
      ]
     },
     "execution_count": 152,
     "metadata": {},
     "output_type": "execute_result"
    }
   ],
   "source": [
    "# 相関係数を確認\n",
    "df_cloud.corr()"
   ]
  },
  {
   "cell_type": "code",
   "execution_count": 153,
   "metadata": {
    "scrolled": true
   },
   "outputs": [
    {
     "data": {
      "image/png": "[encoded data removed]",
      "text/plain": [
       "<Figure size 504x504 with 2 Axes>"
      ]
     },
     "metadata": {
      "needs_background": "light"
     },
     "output_type": "display_data"
    }
   ],
   "source": [
    "# 相関係数をヒートマップにして可視化\n",
    "fig = plt.figure(figsize=(7, 7))\n",
    "sns.heatmap(df_cloud.corr(), annot=True)\n",
    "plt.show()"
   ]
  },
  {
   "cell_type": "code",
   "execution_count": 154,
   "metadata": {},
   "outputs": [],
   "source": [
    "#評価対象のみに絞る\n",
    "df_cloud_eval = df_cloud.loc[:, ['state_num', 'goal','pledged','backers','usd pledged','usd_pledged_real','usd_goal_real']]"
   ]
  },
  {
   "cell_type": "code",
   "execution_count": 155,
   "metadata": {},
   "outputs": [
    {
     "data": {
      "image/png": "[encoded data removed]",
      "text/plain": [
       "<Figure size 720x720 with 49 Axes>"
      ]
     },
     "metadata": {
      "needs_background": "light"
     },
     "output_type": "display_data"
    }
   ],
   "source": [
    "# 散布図行列を書いてみる\n",
    "pd.plotting.scatter_matrix(df_cloud, figsize=(10,10))\n",
    "plt.show()"
   ]
  },
  {
   "cell_type": "code",
   "execution_count": 156,
   "metadata": {},
   "outputs": [
    {
     "name": "stdout",
     "output_type": "stream",
     "text": [
      "w0 = -41.020, w1 = 434266.467, w2 = -434307.390, w3 = -11979.246, w4 = 2310.611, w5 = -437917.736, w6 = 435405.834\n"
     ]
    }
   ],
   "source": [
    "y = df_cloud_eval[\"state_num\"].values\n",
    "X = df_cloud_eval.drop('state_num', axis=1).values\n",
    "clf = SGDClassifier(loss='log', penalty='none', max_iter=10000, fit_intercept=True, random_state=1111, tol=1e-3)\n",
    "clf.fit(X, y)\n",
    "\n",
    "# 重みを取得して表示\n",
    "w0 = clf.intercept_[0]\n",
    "w1 = clf.coef_[0, 0]\n",
    "w2 = clf.coef_[0, 1]\n",
    "w3 = clf.coef_[0, 2]\n",
    "w4 = clf.coef_[0, 3]\n",
    "w5 = clf.coef_[0, 4]\n",
    "w6 = clf.coef_[0, 5]\n",
    "\n",
    "print('w0 = {:.3f}, w1 = {:.3f}, w2 = {:.3f}, w3 = {:.3f}, w4 = {:.3f}, w5 = {:.3f}, w6 = {:.3f}'.format(w0, w1, w2, w3, w4, w5, w6))"
   ]
  },
  {
   "cell_type": "code",
   "execution_count": 157,
   "metadata": {},
   "outputs": [
    {
     "name": "stdout",
     "output_type": "stream",
     "text": [
      "対数尤度 = -0.001\n",
      "正答率 = 99.996%\n"
     ]
    }
   ],
   "source": [
    "# ラベルを予測\n",
    "y_est = clf.predict(X)\n",
    "\n",
    "# 対数尤度を表示\n",
    "print('対数尤度 = {:.3f}'.format(- log_loss(y, y_est)))\n",
    "\n",
    "# 正答率を表示\n",
    "print('正答率 = {:.3f}%'.format(100 * accuracy_score(y, y_est)))"
   ]
  },
  {
   "cell_type": "code",
   "execution_count": 158,
   "metadata": {},
   "outputs": [
    {
     "data": {
      "text/html": [
       "<div>\n",
       "<style scoped>\n",
       "    .dataframe tbody tr th:only-of-type {\n",
       "        vertical-align: middle;\n",
       "    }\n",
       "\n",
       "    .dataframe tbody tr th {\n",
       "        vertical-align: top;\n",
       "    }\n",
       "\n",
       "    .dataframe thead th {\n",
       "        text-align: right;\n",
       "    }\n",
       "</style>\n",
       "<table border=\"1\" class=\"dataframe\">\n",
       "  <thead>\n",
       "    <tr style=\"text-align: right;\">\n",
       "      <th></th>\n",
       "      <th>予測 = 成功</th>\n",
       "      <th>予測 = 失敗</th>\n",
       "    </tr>\n",
       "  </thead>\n",
       "  <tbody>\n",
       "    <tr>\n",
       "      <th>正解 = 成功</th>\n",
       "      <td>133848</td>\n",
       "      <td>3</td>\n",
       "    </tr>\n",
       "    <tr>\n",
       "      <th>正解 = 失敗</th>\n",
       "      <td>9</td>\n",
       "      <td>197605</td>\n",
       "    </tr>\n",
       "  </tbody>\n",
       "</table>\n",
       "</div>"
      ],
      "text/plain": [
       "         予測 = 成功  予測 = 失敗\n",
       "正解 = 成功   133848        3\n",
       "正解 = 失敗        9   197605"
      ]
     },
     "execution_count": 158,
     "metadata": {},
     "output_type": "execute_result"
    }
   ],
   "source": [
    "# 予測値と正解のクロス集計\n",
    "conf_mat = pd.DataFrame(confusion_matrix(y, y_est), \n",
    "                        index=['正解 = 成功', '正解 = 失敗'], \n",
    "                        columns=['予測 = 成功', '予測 = 失敗'])\n",
    "\n",
    "conf_mat"
   ]
  },
  {
   "cell_type": "code",
   "execution_count": 159,
   "metadata": {},
   "outputs": [
    {
     "name": "stdout",
     "output_type": "stream",
     "text": [
      "正答率（Accuracy） = 99.996%\n",
      "適合率（Precision） = 99.993%\n",
      "再現率（Recall） = 99.998%\n",
      "F1値（F1-score） = 99.996%\n"
     ]
    }
   ],
   "source": [
    "# ラベルを予測\n",
    "y_pred = clf.predict(X)\n",
    "\n",
    "# 正答率を計算\n",
    "accuracy =  accuracy_score(y, y_pred)\n",
    "print('正答率（Accuracy） = {:.3f}%'.format(100 * accuracy))\n",
    "\n",
    "# Precision, Recall, F1-scoreを計算\n",
    "precision, recall, f1_score, _ = precision_recall_fscore_support(y, y_pred)\n",
    "\n",
    "# カテゴリ「成功」に関するPrecision, Recall, F1-scoreを表示\n",
    "print('適合率（Precision） = {:.3f}%'.format(100 * precision[0]))\n",
    "print('再現率（Recall） = {:.3f}%'.format(100 * recall[0]))\n",
    "print('F1値（F1-score） = {:.3f}%'.format(100 * f1_score[0]))"
   ]
  },
  {
   "cell_type": "markdown",
   "metadata": {},
   "source": [
    "# 日付の観点を調査"
   ]
  },
  {
   "cell_type": "code",
   "execution_count": 160,
   "metadata": {},
   "outputs": [],
   "source": [
    "import datetime\n",
    "\n",
    "df_date = pd.read_csv(\n",
    "    \"./input/ks-projects-201801.csv\", delimiter = \",\")[\n",
    "    ['deadline', 'launched', 'state']]"
   ]
  },
  {
   "cell_type": "code",
   "execution_count": 161,
   "metadata": {},
   "outputs": [],
   "source": [
    "df_date['period'] = (pd.to_datetime(df_date['deadline']) - pd.to_datetime(df_date['launched'])).dt.days + 1"
   ]
  },
  {
   "cell_type": "code",
   "execution_count": 162,
   "metadata": {},
   "outputs": [
    {
     "name": "stdout",
     "output_type": "stream",
     "text": [
      "<class 'pandas.core.frame.DataFrame'>\n",
      "RangeIndex: 378661 entries, 0 to 378660\n",
      "Data columns (total 4 columns):\n",
      "deadline    378661 non-null object\n",
      "launched    378661 non-null object\n",
      "state       378661 non-null object\n",
      "period      378661 non-null int64\n",
      "dtypes: int64(1), object(3)\n",
      "memory usage: 11.6+ MB\n"
     ]
    }
   ],
   "source": [
    "df_date.info()"
   ]
  },
  {
   "cell_type": "code",
   "execution_count": 136,
   "metadata": {},
   "outputs": [
    {
     "name": "stdout",
     "output_type": "stream",
     "text": [
      "失敗プロジェクトの平均期間: 35.17日\n",
      "成功プロジェクトの平均期間: 32.16日\n"
     ]
    }
   ],
   "source": [
    "print('失敗プロジェクトの平均期間: {0}日'\n",
    "      .format(round(df_date[df_date['state'] == 'failed']['period'].mean(), 2)))\n",
    "print('成功プロジェクトの平均期間: {0}日'\n",
    "      .format(round(df_date[df_date['state'] == 'successful']['period'].mean(), 2)))"
   ]
  },
  {
   "cell_type": "code",
   "execution_count": null,
   "metadata": {},
   "outputs": [],
   "source": []
  }
 ],
 "metadata": {
  "kernelspec": {
   "display_name": "Python 3",
   "language": "python",
   "name": "python3"
  },
  "language_info": {
   "codemirror_mode": {
    "name": "ipython",
    "version": 3
   },
   "file_extension": ".py",
   "mimetype": "text/x-python",
   "name": "python",
   "nbconvert_exporter": "python",
   "pygments_lexer": "ipython3",
   "version": "3.7.3"
  }
 },
 "nbformat": 4,
 "nbformat_minor": 2
}
