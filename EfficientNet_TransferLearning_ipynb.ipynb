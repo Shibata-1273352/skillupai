{
  "nbformat": 4,
  "nbformat_minor": 0,
  "metadata": {
    "colab": {
      "name": "EfficientNet_TransferLearning.ipynb のコピー",
      "provenance": [],
      "collapsed_sections": [],
      "include_colab_link": true
    },
    "kernelspec": {
      "name": "python3",
      "display_name": "Python 3"
    },
    "accelerator": "GPU"
  },
  "cells": [
    {
      "cell_type": "markdown",
      "metadata": {
        "id": "view-in-github",
        "colab_type": "text"
      },
      "source": [
        "<a href=\"https://colab.research.google.com/github/Shibata-1273352/skillupai/blob/master/EfficientNet_TransferLearning_ipynb.ipynb\" target=\"_parent\"><img src=\"https://colab.research.google.com/assets/colab-badge.svg\" alt=\"Open In Colab\"/></a>"
      ]
    },
    {
      "cell_type": "markdown",
      "metadata": {
        "id": "nyvQkiTu9f9I",
        "colab_type": "text"
      },
      "source": [
        "# The Effect of Transfer Learning on EfficientNet\n",
        "---\n",
        "[EfficientNet: Increasing the Accuracy and Robustness CNNs: EfficientNet]() implementation is prepared as an attachment to the blog post [CIFAR10](https://www.cs.toronto.edu/~kriz/cifar.html) Transfer Learning was performed on the CIFAR10 dataset.\n",
        "\n",
        "---\n",
        "\n",
        "### References: \n",
        "\n",
        "*   [EfficientNet: Rethinking Model Scaling for Convolutional Neural Networks](https://arxiv.org/pdf/1905.11946v3.pdf)\n",
        "\n",
        "*   [Implementation of EfficientNet model. Keras and TensorFlow Keras](https://github.com/qubvel/efficientnet)\n",
        "*   [Papers with Codes](https://paperswithcode.com/paper/efficientnet-rethinking-model-scaling-for)\n",
        "*   [EfficientNet: Improving Accuracy and Efficiency through AutoML and Model Scaling](https://ai.googleblog.com/2019/05/efficientnet-improving-accuracy-and.html)\n",
        "*   [How to do Transfer learning with Efficientnet](https://www.dlology.com/blog/transfer-learning-with-efficientnet/)\n",
        "*   [Training EfficientNets on TPUs](https://github.com/tensorflow/tpu/tree/master/models/official/efficientnet)\n",
        "\n",
        "\n",
        "\n",
        "\n",
        "\n",
        "\n"
      ]
    },
    {
      "cell_type": "markdown",
      "metadata": {
        "id": "AT0UnIdm_BJL",
        "colab_type": "text"
      },
      "source": [
        "**Google Colab Authentication**"
      ]
    },
    {
      "cell_type": "code",
      "metadata": {
        "id": "KkX1le9btip7",
        "colab_type": "code",
        "colab": {}
      },
      "source": [
        "from google.colab import drive\n",
        "drive.mount('/gdrive')\n",
        "%cd /gdrive"
      ],
      "execution_count": 0,
      "outputs": []
    },
    {
      "cell_type": "markdown",
      "metadata": {
        "id": "WigvCP1TA7yU",
        "colab_type": "text"
      },
      "source": [
        "**Installing EfficientNet Source Model**"
      ]
    },
    {
      "cell_type": "code",
      "metadata": {
        "id": "AQ_FmGHutzev",
        "colab_type": "code",
        "colab": {}
      },
      "source": [
        "import warnings\n",
        "warnings.filterwarnings(\"ignore\")\n",
        "\n",
        "!pip install -U git+https://github.com/qubvel/efficientnet"
      ],
      "execution_count": 0,
      "outputs": []
    },
    {
      "cell_type": "markdown",
      "metadata": {
        "id": "0787Q6IOBAs4",
        "colab_type": "text"
      },
      "source": [
        "**Importing necessary libraries** "
      ]
    },
    {
      "cell_type": "code",
      "metadata": {
        "id": "1SqcWjgot-3P",
        "colab_type": "code",
        "colab": {}
      },
      "source": [
        "import keras\n",
        "from keras.datasets import cifar10\n",
        "from keras.models import Model\n",
        "from keras.layers import Dense, Dropout, Activation, BatchNormalization, Flatten\n",
        "from keras.callbacks import ModelCheckpoint, ReduceLROnPlateau\n",
        "from keras.optimizers import Adam\n",
        "import efficientnet.keras as enet"
      ],
      "execution_count": 0,
      "outputs": []
    },
    {
      "cell_type": "markdown",
      "metadata": {
        "id": "wAsLNryOBHtt",
        "colab_type": "text"
      },
      "source": [
        "**Downloading CIFAR10 Dateset**"
      ]
    },
    {
      "cell_type": "code",
      "metadata": {
        "id": "sgD7kEGNuDXN",
        "colab_type": "code",
        "colab": {}
      },
      "source": [
        "# CIFAR10\n",
        "\n",
        "(x_train, y_train), (x_test, y_test) = cifar10.load_data()\n",
        "print('x_train shape:', x_train.shape)\n",
        "print(x_train.shape[0], 'train samples')\n",
        "print(x_test.shape[0], 'test samples')\n",
        "\n",
        "# Converting class vectors to binary class matrices\n",
        "num_classes = 10\n",
        "y_train = keras.utils.to_categorical(y_train, num_classes)\n",
        "y_test = keras.utils.to_categorical(y_test, num_classes)\n",
        "\n",
        "x_train = x_train.astype('float32')\n",
        "x_test = x_test.astype('float32')\n",
        "x_train /= 255\n",
        "x_test /= 255"
      ],
      "execution_count": 0,
      "outputs": []
    },
    {
      "cell_type": "markdown",
      "metadata": {
        "id": "KHsbhiAaBcl2",
        "colab_type": "text"
      },
      "source": [
        "**Definition of Swish Activation Function**\n",
        "\n",
        "---\n",
        "ou can read more about Swish [here](https://towardsdatascience.com/comparison-of-activation-functions-for-deep-neural-networks-706ac4284c8a)!\n",
        "\n",
        "\n"
      ]
    },
    {
      "cell_type": "code",
      "metadata": {
        "id": "Aw96vBTCuGWH",
        "colab_type": "code",
        "colab": {}
      },
      "source": [
        "from keras.backend import sigmoid\n",
        "\n",
        "class SwishActivation(Activation):\n",
        "    \n",
        "    def __init__(self, activation, **kwargs):\n",
        "        super(SwishActivation, self).__init__(activation, **kwargs)\n",
        "        self.__name__ = 'swish_act'\n",
        "\n",
        "def swish_act(x, beta = 1):\n",
        "    return (x * sigmoid(beta * x))\n",
        "\n",
        "from keras.utils.generic_utils import get_custom_objects\n",
        "from keras.layers import Activation\n",
        "get_custom_objects().update({'swish_act': SwishActivation(swish_act)})"
      ],
      "execution_count": 0,
      "outputs": []
    },
    {
      "cell_type": "markdown",
      "metadata": {
        "id": "LTSv2jvsB3oL",
        "colab_type": "text"
      },
      "source": [
        "**Model of EfficientNet-B0** (pre-trained with imagenet)"
      ]
    },
    {
      "cell_type": "code",
      "metadata": {
        "id": "OFttl4isuJX1",
        "colab_type": "code",
        "colab": {}
      },
      "source": [
        "model = enet.EfficientNetB0(include_top=False, input_shape=(32,32,3), pooling='avg', weights='imagenet')\n",
        "\n",
        "# Adding 2 fully-connected layers to B0.\n",
        "x = model.output\n",
        "\n",
        "x = BatchNormalization()(x)\n",
        "x = Dropout(0.7)(x)\n",
        "\n",
        "x = Dense(512)(x)\n",
        "x = BatchNormalization()(x)\n",
        "x = Activation(swish_act)(x)\n",
        "x = Dropout(0.5)(x)\n",
        "\n",
        "x = Dense(128)(x)\n",
        "x = BatchNormalization()(x)\n",
        "x = Activation(swish_act)(x)\n",
        "\n",
        "# Output layer\n",
        "predictions = Dense(10, activation=\"softmax\")(x)\n",
        "\n",
        "model_final = Model(inputs = model.input, outputs = predictions)\n",
        "\n",
        "model_final.summary()"
      ],
      "execution_count": 0,
      "outputs": []
    },
    {
      "cell_type": "code",
      "metadata": {
        "id": "7Y2h9pPN0Xwe",
        "colab_type": "code",
        "colab": {}
      },
      "source": [
        "!pwd"
      ],
      "execution_count": 0,
      "outputs": []
    },
    {
      "cell_type": "markdown",
      "metadata": {
        "id": "JQrkkLyzCWZs",
        "colab_type": "text"
      },
      "source": [
        "**Compile the Model and Save the Best Results**"
      ]
    },
    {
      "cell_type": "code",
      "metadata": {
        "id": "lJbaIYeGuQ52",
        "colab_type": "code",
        "colab": {}
      },
      "source": [
        "model_final.compile(loss='categorical_crossentropy',\n",
        "              optimizer=Adam(0.0001),\n",
        "              metrics=['accuracy'])\n",
        "\n",
        "mcp_save = ModelCheckpoint('/gdrive/My Drive/EnetB0_CIFAR10_TL.h5', save_best_only=True, monitor='val_acc')\n",
        "reduce_lr = ReduceLROnPlateau(monitor='val_acc', factor=0.5, patience=2, verbose=1,)\n",
        "\n",
        "#print(\"Training....\")\n",
        "model_final.fit(x_train, y_train,\n",
        "              batch_size=32,\n",
        "              epochs=10,\n",
        "              validation_split=0.1,\n",
        "              callbacks=[mcp_save, reduce_lr],\n",
        "              shuffle=True,\n",
        "              verbose=1)"
      ],
      "execution_count": 0,
      "outputs": []
    },
    {
      "cell_type": "code",
      "metadata": {
        "id": "zrAEgqQouWep",
        "colab_type": "code",
        "colab": {}
      },
      "source": [
        "_, acc = model_final.evaluate(x_test, y_test)"
      ],
      "execution_count": 0,
      "outputs": []
    },
    {
      "cell_type": "markdown",
      "metadata": {
        "id": "aQqE2Ne-Cldv",
        "colab_type": "text"
      },
      "source": [
        "**Printing the test accuracy**"
      ]
    },
    {
      "cell_type": "code",
      "metadata": {
        "id": "2SD6yma6ub9G",
        "colab_type": "code",
        "colab": {}
      },
      "source": [
        "print(\"Test Accuracy: {}%\".format(acc*100))"
      ],
      "execution_count": 0,
      "outputs": []
    },
    {
      "cell_type": "markdown",
      "metadata": {
        "id": "uCftheoIDX4f",
        "colab_type": "text"
      },
      "source": [
        "**Visualization of Confusion Matrix**"
      ]
    },
    {
      "cell_type": "code",
      "metadata": {
        "id": "fT11oW_Muedu",
        "colab_type": "code",
        "colab": {}
      },
      "source": [
        "import seaborn as sns\n",
        "from sklearn.metrics import confusion_matrix\n",
        "\n",
        "test_pred = model_final.predict(x_test)"
      ],
      "execution_count": 0,
      "outputs": []
    },
    {
      "cell_type": "code",
      "metadata": {
        "id": "i-W9xmG3uhJq",
        "colab_type": "code",
        "colab": {}
      },
      "source": [
        "import numpy as np\n",
        "\n",
        "ax = sns.heatmap(confusion_matrix(np.argmax(y_test, axis=1),np.argmax(test_pred, axis=1)), cmap=\"binary\",annot=True,fmt=\"d\")"
      ],
      "execution_count": 0,
      "outputs": []
    },
    {
      "cell_type": "markdown",
      "metadata": {
        "id": "w_qD224pDeos",
        "colab_type": "text"
      },
      "source": [
        "**MBCovn** Block"
      ]
    },
    {
      "cell_type": "code",
      "metadata": {
        "id": "6saiCur_ujfy",
        "colab_type": "code",
        "colab": {}
      },
      "source": [
        "def mbConv_block(input_data, block_arg):\n",
        "    \"\"\"Mobile Inverted Residual block along with Squeeze and Excitation block.\"\"\"\n",
        "    kernel_size = block_arg.kernel_size\n",
        "    num_repeat= block_arg.num_repeat\n",
        "    input_filters= block_arg.input_filters\n",
        "    output_filters= output_filters.kernel_size\n",
        "    expand_ratio= block_arg.expand_ratio\n",
        "    id_skip= block_arg.id_skip\n",
        "    strides= block_arg.strides\n",
        "    se_ratio= block_arg.se_ratio\n",
        "    # Genişleme Evresi\n",
        "    expanded_filters =  input_filters * expand_ratio\n",
        "    x = Conv2D(expanded_filters, 1,  padding='same',  use_bias=False)(input_data)\n",
        "    x = BatchNormalization()(x)\n",
        "    x = Activation(swish_activation)(x)\n",
        "    # Depthwise Convolution\n",
        "    x = DepthwiseConv2D(kernel_size, strides,  padding='same',  use_bias=False)(x)\n",
        "    x = BatchNormalization()(x)\n",
        "    x = Activation(swish_activation)(x)\n",
        "    # Squeeze and expand steps\n",
        "    se = GlobalAveragePooling2D()(x)\n",
        "    se = Reshape((1, 1, expanded_filters ))(x)\n",
        "    squeezed_filters = max (1, int(input_filters * se_ratio))\n",
        "    se = Conv2D(squeezed_filters , 1, activation=swish_activation, padding='same')(se)\n",
        "    se = Conv2D(expanded_filters, 1, activation='sigmoid', padding='same')(se)\n",
        "    x = multiply([x, se])\n",
        "    # Outputs\n",
        "    x = Conv2D(output_filters, 1, padding='same', use_bias=False)\n",
        "    x = BatchNormalization()(x)\n",
        "    return x\n"
      ],
      "execution_count": 0,
      "outputs": []
    }
  ]
}